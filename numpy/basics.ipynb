{
 "cells": [
  {
   "cell_type": "code",
   "execution_count": 1,
   "metadata": {},
   "outputs": [],
   "source": [
    "import numpy as np\n",
    "import cv2 as cv"
   ]
  },
  {
   "cell_type": "code",
   "execution_count": 2,
   "metadata": {},
   "outputs": [
    {
     "data": {
      "text/plain": [
       "array([[187, 158, 104, 121, 143],\n",
       "       [198, 125, 255, 255, 147],\n",
       "       [209, 134, 255,  97, 182]], dtype=uint8)"
      ]
     },
     "execution_count": 2,
     "metadata": {},
     "output_type": "execute_result"
    }
   ],
   "source": [
    "\n",
    "img=cv.imread(\"smallgray.png\",0) # in the argument 0 means in grayscale \n",
    "                                # 1 means BGR scale\n",
    "img\n",
    "\n",
    "                                # Output\n",
    "# The value in the matrix when it is higher it is nearer to white where white is 225"
   ]
  },
  {
   "attachments": {},
   "cell_type": "markdown",
   "metadata": {},
   "source": [
    "# Create an image from the numpy array"
   ]
  },
  {
   "cell_type": "code",
   "execution_count": 9,
   "metadata": {},
   "outputs": [
    {
     "data": {
      "text/plain": [
       "array([[100,   0, 125, 225],\n",
       "       [  0,   0, 200, 150],\n",
       "       [100,  90,  50, 150]])"
      ]
     },
     "execution_count": 9,
     "metadata": {},
     "output_type": "execute_result"
    }
   ],
   "source": [
    "nArr=np.array([[100,0,125,225],\n",
    "        [0,0,200,150],\n",
    "        [100,90,50,150]])\n",
    "cv.imwrite(\"newImage.png\",nArr)\n",
    "nArr"
   ]
  },
  {
   "cell_type": "code",
   "execution_count": 13,
   "metadata": {},
   "outputs": [
    {
     "name": "stdout",
     "output_type": "stream",
     "text": [
      "[[100   0 125 225 100   0 125 225]\n",
      " [  0   0 200 150   0   0 200 150]\n",
      " [100  90  50 150 100  90  50 150]]\n",
      "[[100   0 125 225]\n",
      " [  0   0 200 150]\n",
      " [100  90  50 150]\n",
      " [100   0 125 225]\n",
      " [  0   0 200 150]\n",
      " [100  90  50 150]]\n"
     ]
    }
   ],
   "source": [
    "nArr=cv.imread(\"newImage.png\",0)\n",
    "stk=np.hstack((nArr,nArr))\n",
    "vStk=np.vstack((nArr,nArr))\n",
    "print(stk)\n",
    "print(vStk)"
   ]
  },
  {
   "cell_type": "code",
   "execution_count": null,
   "metadata": {},
   "outputs": [],
   "source": []
  }
 ],
 "metadata": {
  "kernelspec": {
   "display_name": "Python 3",
   "language": "python",
   "name": "python3"
  },
  "language_info": {
   "codemirror_mode": {
    "name": "ipython",
    "version": 3
   },
   "file_extension": ".py",
   "mimetype": "text/x-python",
   "name": "python",
   "nbconvert_exporter": "python",
   "pygments_lexer": "ipython3",
   "version": "3.10.9 (tags/v3.10.9:1dd9be6, Dec  6 2022, 20:01:21) [MSC v.1934 64 bit (AMD64)]"
  },
  "orig_nbformat": 4,
  "vscode": {
   "interpreter": {
    "hash": "0518a23b565f15c70c10a9c93442514d8c9d753fb0e60cd2949373cecbaffef9"
   }
  }
 },
 "nbformat": 4,
 "nbformat_minor": 2
}
